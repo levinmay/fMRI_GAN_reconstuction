{
 "cells": [
  {
   "cell_type": "code",
   "execution_count": 279,
   "metadata": {
    "id": "5UtrCvbS4RG7"
   },
   "outputs": [],
   "source": [
    "from __future__ import annotations\n",
    "import matplotlib.pyplot as plt\n",
    "from PIL import Image\n",
    "import numpy as np\n",
    "import pickle\n",
    "import os\n",
    "import tqdm\n",
    "import matplotlib.image as mpimg"
   ]
  },
  {
   "cell_type": "markdown",
   "metadata": {},
   "source": [
    "mxnet dependancies"
   ]
  },
  {
   "cell_type": "code",
   "execution_count": 191,
   "metadata": {
    "colab": {
     "base_uri": "https://localhost:8080/"
    },
    "id": "P0tYmkTi4Tj-",
    "outputId": "e6a17d30-dfb8-4929-9c4d-5abc839a9304"
   },
   "outputs": [],
   "source": [
    "import mxnet\n",
    "from typing import Tuple, Union\n",
    "from mxnet import nd, symbol\n",
    "from mxnet.gluon.nn import HybridBlock\n",
    "from mxnet.gluon.parameter import Parameter\n",
    "from mxnet.initializer import Zero\n",
    "from mxnet.gluon.nn import Conv2D, HybridSequential, LeakyReLU, Dense\n",
    "from mxnet import nd, gluon, autograd\n",
    "import mxnet as mx\n",
    "from mxnet.io import NDArrayIter"
   ]
  },
  {
   "cell_type": "markdown",
   "metadata": {},
   "source": [
    "facenet dependancies"
   ]
  },
  {
   "cell_type": "code",
   "execution_count": 192,
   "metadata": {},
   "outputs": [
    {
     "name": "stdout",
     "output_type": "stream",
     "text": [
      "Running on device: cpu\n"
     ]
    }
   ],
   "source": [
    "from facenet_pytorch import MTCNN, InceptionResnetV1\n",
    "import torch\n",
    "from torch.utils.data import DataLoader\n",
    "from torchvision import datasets\n",
    "import numpy as np\n",
    "import pandas as pd\n",
    "import os\n",
    "\n",
    "workers = 0 if os.name == 'nt' else 4\n",
    "device = torch.device('cuda:0' if torch.cuda.is_available() else 'cpu')\n",
    "print('Running on device: {}'.format(device))\n",
    "\n",
    "mtcnn = MTCNN(\n",
    "    image_size=160, margin=0, min_face_size=20,\n",
    "    thresholds=[0.6, 0.7, 0.7], factor=0.709, post_process=True,\n",
    "    device=device\n",
    ")\n",
    "\n",
    "resnet = InceptionResnetV1(pretrained='vggface2').eval().to(device)\n",
    "\n",
    "# def my_collate_fn(x):\n",
    "#     return 0 # np.array(x[0])\n",
    "from may import my_collate_fn "
   ]
  },
  {
   "cell_type": "markdown",
   "metadata": {},
   "source": [
    "mxnet classes"
   ]
  },
  {
   "cell_type": "code",
   "execution_count": 193,
   "metadata": {
    "id": "MP1X8zSQ4Tmh"
   },
   "outputs": [],
   "source": [
    "def load_dataset(t, x, batch_size, shuffle=True):\n",
    "    return NDArrayIter({ \"x\": nd.stack(*x, axis=0) }, { \"t\": nd.stack(*t, axis=0) }, batch_size, shuffle)"
   ]
  },
  {
   "cell_type": "code",
   "execution_count": 194,
   "metadata": {
    "id": "SBAbcsjq4To6"
   },
   "outputs": [],
   "source": [
    "class Pixelnorm(HybridBlock):\n",
    "    def __init__(self, epsilon: float = 1e-8) -> None:\n",
    "        super(Pixelnorm, self).__init__()\n",
    "        self.epsilon = epsilon\n",
    "\n",
    "    def hybrid_forward(self, F, x) -> nd:\n",
    "        return x * F.rsqrt(F.mean(F.square(x), 1, True) + self.epsilon)\n",
    "\n",
    "\n",
    "class Bias(HybridBlock):\n",
    "    def __init__(self, shape: Tuple) -> None:\n",
    "        super(Bias, self).__init__()\n",
    "        self.shape = shape\n",
    "        with self.name_scope():\n",
    "            self.b = self.params.get(\"b\", init=Zero(), shape=shape)\n",
    "\n",
    "    def hybrid_forward(self, F, x, b) -> nd:\n",
    "        return F.broadcast_add(x, b[None, :, None, None])\n",
    "\n",
    "\n",
    "class Block(HybridSequential):\n",
    "    def __init__(self, channels: int, in_channels: int) -> None:\n",
    "        super(Block, self).__init__()\n",
    "        self.channels = channels\n",
    "        self.in_channels = in_channels\n",
    "        with self.name_scope():\n",
    "            self.add(Conv2D(channels, 3, padding=1, in_channels=in_channels))\n",
    "            self.add(LeakyReLU(0.2))\n",
    "            self.add(Pixelnorm())\n",
    "            self.add(Conv2D(channels, 3, padding=1, in_channels=channels))\n",
    "            self.add(LeakyReLU(0.2))\n",
    "            self.add(Pixelnorm())\n",
    "\n",
    "    def hybrid_forward(self, F, x) -> nd:\n",
    "        x = F.repeat(x, 2, 2)\n",
    "        x = F.repeat(x, 2, 3)\n",
    "        for i in range(len(self)):\n",
    "            x = self[i](x)\n",
    "        return x"
   ]
  },
  {
   "cell_type": "code",
   "execution_count": 195,
   "metadata": {
    "id": "nbt6GO9Y4Trm"
   },
   "outputs": [],
   "source": [
    "class Generator(HybridSequential):\n",
    "    def __init__(self) -> None:\n",
    "        super(Generator, self).__init__()\n",
    "        with self.name_scope():\n",
    "            self.add(Pixelnorm())\n",
    "            self.add(Dense(8192, use_bias=False, in_units=512))\n",
    "            self.add(Bias((512,)))\n",
    "            self.add(LeakyReLU(0.2))\n",
    "            self.add(Pixelnorm())\n",
    "            self.add(Conv2D(512, 3, padding=1, in_channels=512))\n",
    "            self.add(LeakyReLU(0.2))\n",
    "            self.add(Pixelnorm())\n",
    "            \n",
    "            self.add(Block(512, 512)) # 8\n",
    "            self.add(Block(512, 512))\n",
    "            self.add(Block(512, 512))\n",
    "            self.add(Block(256, 512))\n",
    "            self.add(Block(128, 256))\n",
    "            self.add(Block(64, 128))\n",
    "            self.add(Block(32, 64))\n",
    "            self.add(Block(16, 32)) # 15\n",
    "            self.add(Conv2D(3, 1, in_channels=16))\n",
    "\n",
    "\n",
    "    def hybrid_forward(self, F: Union(nd, symbol), x: nd, layer: int) -> nd:\n",
    "        x = F.Reshape(self[1](self[0](x)), (-1, 512, 4, 4))\n",
    "        for i in range(2, len(self)):\n",
    "            x = self[i](x)\n",
    "            if i == layer + 7:\n",
    "              return x\n",
    "        return x"
   ]
  },
  {
   "cell_type": "markdown",
   "metadata": {},
   "source": [
    "## new classes!"
   ]
  },
  {
   "cell_type": "code",
   "execution_count": 249,
   "metadata": {},
   "outputs": [],
   "source": [
    "class Linear(HybridSequential):\n",
    "    def __init__(self, n_in, n_out):\n",
    "        super(Linear, self).__init__()\n",
    "        with self.name_scope():\n",
    "            self.add(Dense(n_out, in_units=n_in))\n",
    "            \n",
    "class LinearNoBias(HybridSequential):\n",
    "    def __init__(self, n_in, n_out):\n",
    "        super(LinearNoBias, self).__init__()\n",
    "        with self.name_scope():\n",
    "            self.add(Dense(n_out, in_units=n_in, use_bias = False))\n",
    "\n",
    "class LinearNew(HybridSequential):\n",
    "    def __init__(self, n_in, n_out):\n",
    "        super(LinearNew, self).__init__()\n",
    "        with self.name_scope():\n",
    "            #self.add(Dense(n_out, in_units=n_in))\n",
    "            self.add(Dense(600, in_units = n_in, activation='relu'))\n",
    "            self.add(Dense(n_out))\n",
    "\n",
    "class Sigmoid(HybridSequential):\n",
    "    def __init__(self, n_in, n_out):\n",
    "        super(Sigmoid, self).__init__()\n",
    "        with self.name_scope():\n",
    "            self.add(Dense(n_out, in_units = n_in, activation='sigmoid'))\n",
    "            \n",
    "class softRelu(HybridSequential):\n",
    "    def __init__(self, n_in, n_out):\n",
    "        super(softRelu, self).__init__()\n",
    "        with self.name_scope():\n",
    "            self.add(Dense(n_out, in_units = n_in, activation='softrelu'))            \n",
    "           \n",
    "            "
   ]
  },
  {
   "cell_type": "code",
   "execution_count": 260,
   "metadata": {},
   "outputs": [],
   "source": [
    "class cnn2DImage(HybridSequential):\n",
    "    def __init__(self, n_in, n_out):\n",
    "        super(cnn2DImage, self).__init__()\n",
    "        with self.name_scope():\n",
    "            self.add(Conv2D(n_out, kernel_size= (3,3)))\n",
    "\n",
    "class cnn3DImage(HybridSequential):\n",
    "    def __init__(self, n_in, n_out):\n",
    "        super(cnn3DImage, self).__init__()\n",
    "        with self.name_scope():\n",
    "            self.add(Conv3D(n_out, kernel_size = 3))\n",
    "\n",
    "class rnn(HybridSequential):\n",
    "    def __init__(self, n_in, n_out):\n",
    "        super(rnn, self).__init__()\n",
    "        with self.name_scope():\n",
    "            self.add(rnn(n_out, in_units=n_in))\n",
    "\n",
    "                     \n",
    "                     "
   ]
  },
  {
   "cell_type": "code",
   "execution_count": 252,
   "metadata": {},
   "outputs": [],
   "source": [
    "class LinearNew(HybridSequential):\n",
    "    def __init__(self, n_in, n_out):\n",
    "        super(LinearNew, self).__init__()\n",
    "        with self.name_scope():\n",
    "            self.add(Dense(600, in_units = n_in, activation='relu'), Dense(n_out))\n",
    "\n"
   ]
  },
  {
   "cell_type": "code",
   "execution_count": 274,
   "metadata": {},
   "outputs": [],
   "source": [
    "class Linear3(HybridSequential):\n",
    "    def __init__(self, n_in, n_out):\n",
    "        super(Linear3, self).__init__()\n",
    "        with self.name_scope():\n",
    "            self.add(Dense(1000, in_units = n_in), Dense(550), Dense(n_out))\n",
    "\n",
    "class Linear4(HybridSequential):\n",
    "    def __init__(self, n_in, n_out):\n",
    "        super(LinearNew, self).__init__()\n",
    "        with self.name_scope():\n",
    "            self.add(Dense(3000, in_units = n_in),  Dense(2000), Dense(1000), Dense(n_out))\n",
    "\n"
   ]
  },
  {
   "cell_type": "code",
   "execution_count": 275,
   "metadata": {},
   "outputs": [],
   "source": [
    "n_vox = 4096\n",
    "n_lat = 512"
   ]
  },
  {
   "cell_type": "code",
   "execution_count": 276,
   "metadata": {},
   "outputs": [],
   "source": []
  },
  {
   "cell_type": "markdown",
   "metadata": {},
   "source": [
    "# main code"
   ]
  },
  {
   "cell_type": "code",
   "execution_count": 273,
   "metadata": {
    "id": "wD8Fux7h4f2U",
    "scrolled": false
   },
   "outputs": [],
   "source": [
    "def modelRun(model, max_epoch, batch_size, currentDic):\n",
    "\n",
    "    generator = Generator()\n",
    "    generator.load_parameters(os.getcwd() + \"/data/generator.params\")\n",
    "    mean_squared_error = gluon.loss.L2Loss()\n",
    "\n",
    "    for subject in [1]:\n",
    "          # Data\n",
    "        with open((os.getcwd() + \"/data/data_%i.dat\") % subject, 'rb') as f:\n",
    "              X_tr, T_tr, X_te, T_te = pickle.load(f)\n",
    "        train = load_dataset(nd.array(T_tr), nd.array(X_tr), batch_size)        \n",
    "        test =  load_dataset(nd.array(T_te), nd.array(X_te), batch_size=36, shuffle=False)  \n",
    "\n",
    "          # Training\n",
    "        print(\"modelName\" , model)\n",
    "        vox_to_lat = Linear(n_vox, n_lat)\n",
    "        if (model == 1):\n",
    "            vox_to_lat = LinearNoBias(n_vox, n_lat)     \n",
    "        if (model == 2):\n",
    "            vox_to_lat = LinearNew(n_vox, n_lat)\n",
    "        if (model == 3):\n",
    "            vox_to_lat = Sigmoid(n_vox, n_lat)\n",
    "        if (model == 4):\n",
    "            vox_to_lat = softRelu(n_vox, n_lat)\n",
    "        if (model == 5):\n",
    "            vox_to_lat = cnn2DImage( n_vox, n_lat)\n",
    "        if (model == 6):\n",
    "            vox_to_lat = cnn3DImage(n_vox, n_lat)\n",
    "        if (model == 7):\n",
    "            vox_to_lat = rnn(n_vox, n_lat)\n",
    "        if (model == 8):\n",
    "            vox_to_lat = Linear3(n_vox, n_lat)\n",
    "        if (model == 9):\n",
    "            vox_to_lat = Linear4(n_vox, n_lat)\n",
    "                    \n",
    "            \n",
    "        vox_to_lat.initialize()\n",
    "        trainer = gluon.Trainer(vox_to_lat.collect_params(), \"Adam\", {\"learning_rate\": 0.00001, \"wd\": 0.01})\n",
    "    #       epoch = 0\n",
    "        results_tr = []\n",
    "        results_te = []\n",
    "        for epoch in tqdm.tqdm(range(max_epoch)):\n",
    "            train.reset()\n",
    "            test.reset()\n",
    "            loss_tr = 0\n",
    "            loss_te = 0\n",
    "            count = 0\n",
    "            for batch_tr in train:\n",
    "                with autograd.record():\n",
    "                    lat_Y = vox_to_lat(batch_tr.data[0])\n",
    "                    #lat_Y = vox_to_lat(batch_size, batch_tr.data[0] )\n",
    "                    loss = mean_squared_error(lat_Y, batch_tr.label[0])\n",
    "                loss.backward()\n",
    "                trainer.step(batch_size)\n",
    "                loss_tr += loss.mean().asnumpy()\n",
    "                count += 1\n",
    "            for batch_te in test:\n",
    "                lat_Y = vox_to_lat(batch_te.data[0])\n",
    "                loss = mean_squared_error(lat_Y, batch_te.label[0])\n",
    "                loss_te += loss.mean().asnumpy()\n",
    "            loss_tr_normalized = loss_tr / count\n",
    "            results_tr.append(loss_tr_normalized)\n",
    "            results_te.append(loss_te)\n",
    "            epoch += 1\n",
    "\n",
    "        fig2, ax2 = plt.subplots()\n",
    "        ax2.plot(np.linspace(0, epoch, epoch), results_tr)\n",
    "        ax2.plot(np.linspace(0, epoch, epoch), results_te)\n",
    "        fig2.savefig( currentDic + \"/loss_s.png\")\n",
    "            \n",
    "    \n",
    "          # Testing and reconstructing\n",
    "        lat_Y = vox_to_lat(nd.array(X_te))\n",
    "            \n",
    "        pickle.dump(lat_Y, open(currentDic + \"/lat_Y.pkl\", \"wb\"))\n",
    "    \n",
    "    return lat_Y   \n"
   ]
  },
  {
   "cell_type": "code",
   "execution_count": 204,
   "metadata": {},
   "outputs": [],
   "source": [
    "def generate_from_latent(lat):\n",
    "    faces = []\n",
    "    for i, latent in enumerate(lat):\n",
    "        face = generator(latent[None], 9).asnumpy()\n",
    "        face = np.clip(np.rint(127.5 * face + 127.5), 0.0, 255.0)\n",
    "        face = face.astype(\"uint8\")\n",
    "        face = face.transpose(0, 2, 3, 1)\n",
    "        faces.append(face)\n",
    "    return faces"
   ]
  },
  {
   "cell_type": "code",
   "execution_count": 205,
   "metadata": {},
   "outputs": [],
   "source": [
    "def moveAndGenerate(lat_Y):\n",
    "    img_pred = generate_from_latent(lat_Y)\n",
    "    for idx in range(36):\n",
    "        Image.fromarray(img_pred[idx][0], 'RGB').save(f\"{currentDir}/facesV1/face_%d/1.jpg\" % idx)\n",
    "     "
   ]
  },
  {
   "cell_type": "code",
   "execution_count": 206,
   "metadata": {},
   "outputs": [],
   "source": [
    "def test():\n",
    "    \n",
    "    dataset = datasets.ImageFolder(f'{currentDir}/facesV1')\n",
    "    dataset.idx_to_class = {i:c for c, i in dataset.class_to_idx.items()}\n",
    "    loader = DataLoader(dataset, collate_fn=my_collate_fn, num_workers=workers)\n",
    "    \n",
    "    aligned = []\n",
    "    names = []\n",
    "    for x, y in loader:\n",
    "        x_aligned, prob = mtcnn(x, return_prob=True)\n",
    "        if x_aligned is not None:\n",
    "            aligned.append(x_aligned)\n",
    "            names.append(dataset.idx_to_class[y])\n",
    "            \n",
    "    return aligned, names\n",
    "    # loader = DataLoader(dataset, num_workers=workers)"
   ]
  },
  {
   "cell_type": "code",
   "execution_count": 207,
   "metadata": {
    "scrolled": true
   },
   "outputs": [],
   "source": [
    "def faceNetTry():\n",
    "    aligned, names = test()\n",
    "    aligned = torch.stack(aligned).to(device)\n",
    "    embeddings = resnet(aligned).detach().cpu()\n",
    "    \n",
    "    dists = [[(e1 - e2).norm().item() for e2 in embeddings] for e1 in embeddings]\n",
    "    distsDF = pd.DataFrame(dists, columns=names, index=names)\n",
    "    return distsDF\n"
   ]
  },
  {
   "cell_type": "code",
   "execution_count": 215,
   "metadata": {},
   "outputs": [],
   "source": [
    "def dataCollection(distsDF, currentDict):\n",
    "    os.chdir(currentDict)\n",
    "    \n",
    "    distsDiff = []\n",
    "    \n",
    "    for i in range(36): \n",
    "        face1 = (\"face_%d\" % i)\n",
    "        face2 = (\"face_gt_%d\" % i)\n",
    "\n",
    "        with open('distAll.txt', 'a') as f:\n",
    "            f.write(f\"{face1},{face2},{distsDF[face1][face2]}\")\n",
    "        \n",
    "        distsDiff.append(distsDF[face1][face2])\n",
    "    \n",
    "    with open('distSum.txt', 'w') as f:\n",
    "        f.write(f\"avg distance = {str(np.mean(distsDiff))}\")\n",
    "                \n",
    "    fig1, ax1 = plt.subplots()\n",
    "    ax1.plot(distsDiff, marker = 'o', linestyle = \"--\")            \n",
    "    fig1.savefig('distsDiff.jpg')\n",
    "                \n",
    "    return distsDiff"
   ]
  },
  {
   "cell_type": "code",
   "execution_count": null,
   "metadata": {},
   "outputs": [],
   "source": []
  },
  {
   "cell_type": "code",
   "execution_count": 216,
   "metadata": {},
   "outputs": [],
   "source": [
    "def savePhotoComp(distsDF, currentDict):\n",
    "    os.chdir(currentDict)\n",
    "    fig, axes = plt.subplots(35,2,figsize=(10,200))\n",
    "    k = 0;\n",
    "    for i in range(35):\n",
    "        img = (f\"{currentDir}/facesV1/face_gt_%d/1.jpg\" % i) \n",
    "        axes.ravel()[k].imshow(mpimg.imread(img))   \n",
    "        img = (f\"{currentDir}/facesV1/face_%d/1.jpg\" % i)   \n",
    "        axes.ravel()[k + 1].imshow(mpimg.imread(img))  \n",
    "\n",
    "        face1 = (\"face_%d\" % i)\n",
    "        face2 = (\"face_gt_%d\" % i)\n",
    "        axes.ravel()[k].text(1000, -30, distsDF[face1][face2], fontsize=12)\n",
    "        k += 2\n",
    "\n",
    "    plt.savefig('comparision.jpg')"
   ]
  },
  {
   "cell_type": "code",
   "execution_count": null,
   "metadata": {},
   "outputs": [],
   "source": []
  },
  {
   "cell_type": "markdown",
   "metadata": {},
   "source": [
    "## MAIN"
   ]
  },
  {
   "cell_type": "code",
   "execution_count": 277,
   "metadata": {},
   "outputs": [],
   "source": [
    "classes = [8,9]\n",
    "epochs = [900,1200]#exclude 900, 1200\n",
    "batch_sizes = [30] "
   ]
  },
  {
   "cell_type": "code",
   "execution_count": 335,
   "metadata": {},
   "outputs": [],
   "source": [
    "os.chdir('/Users/maylevin/Desktop/neuro/HYPER-master')"
   ]
  },
  {
   "cell_type": "code",
   "execution_count": 336,
   "metadata": {},
   "outputs": [],
   "source": [
    "#decide on current directory to put files in\n",
    "currentDir = '/Users/maylevin/Desktop/neuro/HYPER-master'"
   ]
  },
  {
   "cell_type": "code",
   "execution_count": null,
   "metadata": {
    "scrolled": false
   },
   "outputs": [],
   "source": [
    "\n",
    "for modelName in classes:\n",
    "    for max_epoch in epochs:\n",
    "        for batch_size in batch_sizes:\n",
    "            os.chdir(currentDir)\n",
    "            !mkdir /Users/maylevin/Desktop/neuro/HYPER-master/models/{modelName}_{max_epoch}_{batch_size}\n",
    "            cwd = f\"{currentDir}/models/{modelName}_{max_epoch}_{batch_size}\"\n",
    "            \n",
    "            lat_Y = modelRun(modelName, max_epoch, batch_size, cwd)\n",
    "            moveAndGenerate(lat_Y)\n",
    "            distsDF = faceNetTry()\n",
    "            distsDiff = dataCollection(distsDF, cwd)\n",
    "            savePhotoComp(distsDF, cwd)\n",
    "            \n",
    "            print(f\"{modelName}_{max_epoch}_{batch_size} has avg. similarity of {np.mean(distsDiff)}\")\n",
    "            \n",
    "            modelArray = modelArray.append({'modelName' : f\"{modelName}_{max_epoch}_{batch_size}\" , 'distsDiff' : np.mean(distsDiff)}, ignore_index = True)\n",
    " \n",
    "\n",
    "        "
   ]
  },
  {
   "cell_type": "code",
   "execution_count": 322,
   "metadata": {
    "scrolled": true
   },
   "outputs": [],
   "source": [
    "modelArray = pd.DataFrame(columns=['modelName','distsDiff'])"
   ]
  },
  {
   "cell_type": "code",
   "execution_count": 337,
   "metadata": {},
   "outputs": [
    {
     "name": "stderr",
     "output_type": "stream",
     "text": [
      "/var/folders/wm/wmrhks9s2dl_1lyyjt_2kvn40000gn/T/ipykernel_10047/1956757291.py:5: FutureWarning: The frame.append method is deprecated and will be removed from pandas in a future version. Use pandas.concat instead.\n",
      "  modelArray = modelArray.append({'modelName' : i , 'distsDiff' : float(lines[0].split('=')[1])}, ignore_index = True)\n",
      "/var/folders/wm/wmrhks9s2dl_1lyyjt_2kvn40000gn/T/ipykernel_10047/1956757291.py:5: FutureWarning: The frame.append method is deprecated and will be removed from pandas in a future version. Use pandas.concat instead.\n",
      "  modelArray = modelArray.append({'modelName' : i , 'distsDiff' : float(lines[0].split('=')[1])}, ignore_index = True)\n",
      "/var/folders/wm/wmrhks9s2dl_1lyyjt_2kvn40000gn/T/ipykernel_10047/1956757291.py:5: FutureWarning: The frame.append method is deprecated and will be removed from pandas in a future version. Use pandas.concat instead.\n",
      "  modelArray = modelArray.append({'modelName' : i , 'distsDiff' : float(lines[0].split('=')[1])}, ignore_index = True)\n",
      "/var/folders/wm/wmrhks9s2dl_1lyyjt_2kvn40000gn/T/ipykernel_10047/1956757291.py:5: FutureWarning: The frame.append method is deprecated and will be removed from pandas in a future version. Use pandas.concat instead.\n",
      "  modelArray = modelArray.append({'modelName' : i , 'distsDiff' : float(lines[0].split('=')[1])}, ignore_index = True)\n",
      "/var/folders/wm/wmrhks9s2dl_1lyyjt_2kvn40000gn/T/ipykernel_10047/1956757291.py:5: FutureWarning: The frame.append method is deprecated and will be removed from pandas in a future version. Use pandas.concat instead.\n",
      "  modelArray = modelArray.append({'modelName' : i , 'distsDiff' : float(lines[0].split('=')[1])}, ignore_index = True)\n",
      "/var/folders/wm/wmrhks9s2dl_1lyyjt_2kvn40000gn/T/ipykernel_10047/1956757291.py:5: FutureWarning: The frame.append method is deprecated and will be removed from pandas in a future version. Use pandas.concat instead.\n",
      "  modelArray = modelArray.append({'modelName' : i , 'distsDiff' : float(lines[0].split('=')[1])}, ignore_index = True)\n",
      "/var/folders/wm/wmrhks9s2dl_1lyyjt_2kvn40000gn/T/ipykernel_10047/1956757291.py:5: FutureWarning: The frame.append method is deprecated and will be removed from pandas in a future version. Use pandas.concat instead.\n",
      "  modelArray = modelArray.append({'modelName' : i , 'distsDiff' : float(lines[0].split('=')[1])}, ignore_index = True)\n",
      "/var/folders/wm/wmrhks9s2dl_1lyyjt_2kvn40000gn/T/ipykernel_10047/1956757291.py:5: FutureWarning: The frame.append method is deprecated and will be removed from pandas in a future version. Use pandas.concat instead.\n",
      "  modelArray = modelArray.append({'modelName' : i , 'distsDiff' : float(lines[0].split('=')[1])}, ignore_index = True)\n",
      "/var/folders/wm/wmrhks9s2dl_1lyyjt_2kvn40000gn/T/ipykernel_10047/1956757291.py:5: FutureWarning: The frame.append method is deprecated and will be removed from pandas in a future version. Use pandas.concat instead.\n",
      "  modelArray = modelArray.append({'modelName' : i , 'distsDiff' : float(lines[0].split('=')[1])}, ignore_index = True)\n",
      "/var/folders/wm/wmrhks9s2dl_1lyyjt_2kvn40000gn/T/ipykernel_10047/1956757291.py:5: FutureWarning: The frame.append method is deprecated and will be removed from pandas in a future version. Use pandas.concat instead.\n",
      "  modelArray = modelArray.append({'modelName' : i , 'distsDiff' : float(lines[0].split('=')[1])}, ignore_index = True)\n",
      "/var/folders/wm/wmrhks9s2dl_1lyyjt_2kvn40000gn/T/ipykernel_10047/1956757291.py:5: FutureWarning: The frame.append method is deprecated and will be removed from pandas in a future version. Use pandas.concat instead.\n",
      "  modelArray = modelArray.append({'modelName' : i , 'distsDiff' : float(lines[0].split('=')[1])}, ignore_index = True)\n",
      "/var/folders/wm/wmrhks9s2dl_1lyyjt_2kvn40000gn/T/ipykernel_10047/1956757291.py:5: FutureWarning: The frame.append method is deprecated and will be removed from pandas in a future version. Use pandas.concat instead.\n",
      "  modelArray = modelArray.append({'modelName' : i , 'distsDiff' : float(lines[0].split('=')[1])}, ignore_index = True)\n",
      "/var/folders/wm/wmrhks9s2dl_1lyyjt_2kvn40000gn/T/ipykernel_10047/1956757291.py:5: FutureWarning: The frame.append method is deprecated and will be removed from pandas in a future version. Use pandas.concat instead.\n",
      "  modelArray = modelArray.append({'modelName' : i , 'distsDiff' : float(lines[0].split('=')[1])}, ignore_index = True)\n",
      "/var/folders/wm/wmrhks9s2dl_1lyyjt_2kvn40000gn/T/ipykernel_10047/1956757291.py:5: FutureWarning: The frame.append method is deprecated and will be removed from pandas in a future version. Use pandas.concat instead.\n",
      "  modelArray = modelArray.append({'modelName' : i , 'distsDiff' : float(lines[0].split('=')[1])}, ignore_index = True)\n",
      "/var/folders/wm/wmrhks9s2dl_1lyyjt_2kvn40000gn/T/ipykernel_10047/1956757291.py:5: FutureWarning: The frame.append method is deprecated and will be removed from pandas in a future version. Use pandas.concat instead.\n",
      "  modelArray = modelArray.append({'modelName' : i , 'distsDiff' : float(lines[0].split('=')[1])}, ignore_index = True)\n",
      "/var/folders/wm/wmrhks9s2dl_1lyyjt_2kvn40000gn/T/ipykernel_10047/1956757291.py:5: FutureWarning: The frame.append method is deprecated and will be removed from pandas in a future version. Use pandas.concat instead.\n",
      "  modelArray = modelArray.append({'modelName' : i , 'distsDiff' : float(lines[0].split('=')[1])}, ignore_index = True)\n",
      "/var/folders/wm/wmrhks9s2dl_1lyyjt_2kvn40000gn/T/ipykernel_10047/1956757291.py:5: FutureWarning: The frame.append method is deprecated and will be removed from pandas in a future version. Use pandas.concat instead.\n",
      "  modelArray = modelArray.append({'modelName' : i , 'distsDiff' : float(lines[0].split('=')[1])}, ignore_index = True)\n",
      "/var/folders/wm/wmrhks9s2dl_1lyyjt_2kvn40000gn/T/ipykernel_10047/1956757291.py:5: FutureWarning: The frame.append method is deprecated and will be removed from pandas in a future version. Use pandas.concat instead.\n",
      "  modelArray = modelArray.append({'modelName' : i , 'distsDiff' : float(lines[0].split('=')[1])}, ignore_index = True)\n",
      "/var/folders/wm/wmrhks9s2dl_1lyyjt_2kvn40000gn/T/ipykernel_10047/1956757291.py:5: FutureWarning: The frame.append method is deprecated and will be removed from pandas in a future version. Use pandas.concat instead.\n",
      "  modelArray = modelArray.append({'modelName' : i , 'distsDiff' : float(lines[0].split('=')[1])}, ignore_index = True)\n",
      "/var/folders/wm/wmrhks9s2dl_1lyyjt_2kvn40000gn/T/ipykernel_10047/1956757291.py:5: FutureWarning: The frame.append method is deprecated and will be removed from pandas in a future version. Use pandas.concat instead.\n",
      "  modelArray = modelArray.append({'modelName' : i , 'distsDiff' : float(lines[0].split('=')[1])}, ignore_index = True)\n",
      "/var/folders/wm/wmrhks9s2dl_1lyyjt_2kvn40000gn/T/ipykernel_10047/1956757291.py:5: FutureWarning: The frame.append method is deprecated and will be removed from pandas in a future version. Use pandas.concat instead.\n",
      "  modelArray = modelArray.append({'modelName' : i , 'distsDiff' : float(lines[0].split('=')[1])}, ignore_index = True)\n",
      "/var/folders/wm/wmrhks9s2dl_1lyyjt_2kvn40000gn/T/ipykernel_10047/1956757291.py:5: FutureWarning: The frame.append method is deprecated and will be removed from pandas in a future version. Use pandas.concat instead.\n",
      "  modelArray = modelArray.append({'modelName' : i , 'distsDiff' : float(lines[0].split('=')[1])}, ignore_index = True)\n",
      "/var/folders/wm/wmrhks9s2dl_1lyyjt_2kvn40000gn/T/ipykernel_10047/1956757291.py:5: FutureWarning: The frame.append method is deprecated and will be removed from pandas in a future version. Use pandas.concat instead.\n",
      "  modelArray = modelArray.append({'modelName' : i , 'distsDiff' : float(lines[0].split('=')[1])}, ignore_index = True)\n"
     ]
    }
   ],
   "source": [
    "for i in os.listdir(f'{currentDir}/models'):\n",
    "    if(i != \".DS_Store\"):\n",
    "        with open(f\"{currentDir}/models/{i}/distSum.txt\") as f:\n",
    "            lines = f.readlines()\n",
    "            modelArray = modelArray.append({'modelName' : i , 'distsDiff' : float(lines[0].split('=')[1])}, ignore_index = True)\n",
    " "
   ]
  },
  {
   "cell_type": "code",
   "execution_count": 333,
   "metadata": {},
   "outputs": [
    {
     "data": {
      "text/html": [
       "<div>\n",
       "<style scoped>\n",
       "    .dataframe tbody tr th:only-of-type {\n",
       "        vertical-align: middle;\n",
       "    }\n",
       "\n",
       "    .dataframe tbody tr th {\n",
       "        vertical-align: top;\n",
       "    }\n",
       "\n",
       "    .dataframe thead th {\n",
       "        text-align: right;\n",
       "    }\n",
       "</style>\n",
       "<table border=\"1\" class=\"dataframe\">\n",
       "  <thead>\n",
       "    <tr style=\"text-align: right;\">\n",
       "      <th></th>\n",
       "      <th>modelName</th>\n",
       "      <th>distsDiff</th>\n",
       "    </tr>\n",
       "  </thead>\n",
       "  <tbody>\n",
       "    <tr>\n",
       "      <th>0</th>\n",
       "      <td>1_1500_30</td>\n",
       "      <td>1.132379</td>\n",
       "    </tr>\n",
       "    <tr>\n",
       "      <th>4</th>\n",
       "      <td>0_1500_30</td>\n",
       "      <td>1.143644</td>\n",
       "    </tr>\n",
       "    <tr>\n",
       "      <th>21</th>\n",
       "      <td>1_700_30</td>\n",
       "      <td>1.143913</td>\n",
       "    </tr>\n",
       "    <tr>\n",
       "      <th>17</th>\n",
       "      <td>0_900_30</td>\n",
       "      <td>1.148636</td>\n",
       "    </tr>\n",
       "    <tr>\n",
       "      <th>13</th>\n",
       "      <td>0_700_30</td>\n",
       "      <td>1.153088</td>\n",
       "    </tr>\n",
       "    <tr>\n",
       "      <th>10</th>\n",
       "      <td>0_1200_30</td>\n",
       "      <td>1.159802</td>\n",
       "    </tr>\n",
       "    <tr>\n",
       "      <th>12</th>\n",
       "      <td>1_1200_30</td>\n",
       "      <td>1.169655</td>\n",
       "    </tr>\n",
       "    <tr>\n",
       "      <th>5</th>\n",
       "      <td>1_900_30</td>\n",
       "      <td>1.177605</td>\n",
       "    </tr>\n",
       "    <tr>\n",
       "      <th>16</th>\n",
       "      <td>2_900_30</td>\n",
       "      <td>1.352438</td>\n",
       "    </tr>\n",
       "    <tr>\n",
       "      <th>7</th>\n",
       "      <td>2_700_30</td>\n",
       "      <td>1.354133</td>\n",
       "    </tr>\n",
       "    <tr>\n",
       "      <th>8</th>\n",
       "      <td>2_1500_30</td>\n",
       "      <td>1.35779</td>\n",
       "    </tr>\n",
       "    <tr>\n",
       "      <th>6</th>\n",
       "      <td>2_1200_30</td>\n",
       "      <td>1.359602</td>\n",
       "    </tr>\n",
       "    <tr>\n",
       "      <th>3</th>\n",
       "      <td>4_700_30</td>\n",
       "      <td>1.3709</td>\n",
       "    </tr>\n",
       "    <tr>\n",
       "      <th>11</th>\n",
       "      <td>3_1500_30</td>\n",
       "      <td>1.375094</td>\n",
       "    </tr>\n",
       "    <tr>\n",
       "      <th>20</th>\n",
       "      <td>3_700_30</td>\n",
       "      <td>1.379391</td>\n",
       "    </tr>\n",
       "    <tr>\n",
       "      <th>2</th>\n",
       "      <td>3_900_30</td>\n",
       "      <td>1.381467</td>\n",
       "    </tr>\n",
       "    <tr>\n",
       "      <th>22</th>\n",
       "      <td>4_1500_30</td>\n",
       "      <td>1.382238</td>\n",
       "    </tr>\n",
       "    <tr>\n",
       "      <th>9</th>\n",
       "      <td>1_100_10</td>\n",
       "      <td>1.383522</td>\n",
       "    </tr>\n",
       "    <tr>\n",
       "      <th>15</th>\n",
       "      <td>4_1200_30</td>\n",
       "      <td>1.384611</td>\n",
       "    </tr>\n",
       "    <tr>\n",
       "      <th>14</th>\n",
       "      <td>8_1200_30</td>\n",
       "      <td>1.385722</td>\n",
       "    </tr>\n",
       "    <tr>\n",
       "      <th>19</th>\n",
       "      <td>4_900_30</td>\n",
       "      <td>1.388088</td>\n",
       "    </tr>\n",
       "    <tr>\n",
       "      <th>1</th>\n",
       "      <td>3_1200_30</td>\n",
       "      <td>1.388936</td>\n",
       "    </tr>\n",
       "    <tr>\n",
       "      <th>18</th>\n",
       "      <td>8_900_30</td>\n",
       "      <td>1.391173</td>\n",
       "    </tr>\n",
       "  </tbody>\n",
       "</table>\n",
       "</div>"
      ],
      "text/plain": [
       "    modelName distsDiff\n",
       "0   1_1500_30  1.132379\n",
       "4   0_1500_30  1.143644\n",
       "21   1_700_30  1.143913\n",
       "17   0_900_30  1.148636\n",
       "13   0_700_30  1.153088\n",
       "10  0_1200_30  1.159802\n",
       "12  1_1200_30  1.169655\n",
       "5    1_900_30  1.177605\n",
       "16   2_900_30  1.352438\n",
       "7    2_700_30  1.354133\n",
       "8   2_1500_30   1.35779\n",
       "6   2_1200_30  1.359602\n",
       "3    4_700_30    1.3709\n",
       "11  3_1500_30  1.375094\n",
       "20   3_700_30  1.379391\n",
       "2    3_900_30  1.381467\n",
       "22  4_1500_30  1.382238\n",
       "9    1_100_10  1.383522\n",
       "15  4_1200_30  1.384611\n",
       "14  8_1200_30  1.385722\n",
       "19   4_900_30  1.388088\n",
       "1   3_1200_30  1.388936\n",
       "18   8_900_30  1.391173"
      ]
     },
     "execution_count": 333,
     "metadata": {},
     "output_type": "execute_result"
    }
   ],
   "source": [
    "modelArray.sort_values(\"distsDiff\")"
   ]
  },
  {
   "cell_type": "code",
   "execution_count": 331,
   "metadata": {},
   "outputs": [],
   "source": [
    "modelArray = modelArray.sort_values(\"modelName\")"
   ]
  },
  {
   "cell_type": "code",
   "execution_count": 332,
   "metadata": {},
   "outputs": [
    {
     "data": {
      "text/plain": [
       "<AxesSubplot:xlabel='modelName'>"
      ]
     },
     "execution_count": 332,
     "metadata": {},
     "output_type": "execute_result"
    },
    {
     "data": {
      "image/png": "[encoded data removed]",
      "text/plain": [
       "<Figure size 432x288 with 1 Axes>"
      ]
     },
     "metadata": {
      "needs_background": "light"
     },
     "output_type": "display_data"
    }
   ],
   "source": [
    "modelArray.plot(kind = \"line\", style='.', x = \"modelName\")"
   ]
  },
  {
   "cell_type": "code",
   "execution_count": null,
   "metadata": {
    "scrolled": true
   },
   "outputs": [],
   "source": []
  },
  {
   "cell_type": "code",
   "execution_count": null,
   "metadata": {},
   "outputs": [],
   "source": []
  },
  {
   "cell_type": "code",
   "execution_count": 90,
   "metadata": {},
   "outputs": [],
   "source": []
  },
  {
   "cell_type": "code",
   "execution_count": null,
   "metadata": {},
   "outputs": [],
   "source": []
  },
  {
   "cell_type": "code",
   "execution_count": null,
   "metadata": {
    "scrolled": true
   },
   "outputs": [],
   "source": []
  },
  {
   "cell_type": "code",
   "execution_count": null,
   "metadata": {},
   "outputs": [],
   "source": []
  }
 ],
 "metadata": {
  "accelerator": "GPU",
  "colab": {
   "collapsed_sections": [],
   "name": "hyper",
   "provenance": []
  },
  "kernelspec": {
   "display_name": "Python 3 (ipykernel)",
   "language": "python",
   "name": "python3"
  },
  "language_info": {
   "codemirror_mode": {
    "name": "ipython",
    "version": 3
   },
   "file_extension": ".py",
   "mimetype": "text/x-python",
   "name": "python",
   "nbconvert_exporter": "python",
   "pygments_lexer": "ipython3",
   "version": "3.8.13"
  }
 },
 "nbformat": 4,
 "nbformat_minor": 1
}
